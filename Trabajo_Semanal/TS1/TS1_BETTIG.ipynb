{
 "cells": [
  {
   "cell_type": "markdown",
   "id": "6b10a6bc-59c0-4a97-ae82-1465acc686a4",
   "metadata": {},
   "source": [
    "## Trabajo Semanal 1 - BETTIG\n",
    "### Primeros pasos en la simulación\n",
    "\n",
    "El objetivo del trabajo es programar una función que genere señales senoidales y que permita parametrizar:\n",
    " - La amplitud máxima de la senoidal (volts)\n",
    " - Su valor medio (volts)\n",
    " - La frecuencia (Hz)\n",
    " - La fase (radianes)\n",
    " - La cantidad de muestras digitalizada por el ADC (# muestras)\n",
    " - La frecuencia de muestreo del ADC.\n",
    "\n",
    "La llamada a la función deberá tener el siguiente formato:\n",
    "\n",
    ">tt, xx = mi_funcion_sen( vmax = 1, dc = 0, ff = 1, ph=0, nn = N, fs = fs)"
   ]
  },
  {
   "cell_type": "code",
   "execution_count": null,
   "id": "8dbe195e-3474-49a8-a107-0fb9fe70871d",
   "metadata": {},
   "outputs": [],
   "source": []
  },
  {
   "cell_type": "code",
   "execution_count": null,
   "id": "fc46c72d-0052-4848-b0b6-3b47803a0cd6",
   "metadata": {},
   "outputs": [],
   "source": []
  }
 ],
 "metadata": {
  "kernelspec": {
   "display_name": "Python 3 (ipykernel)",
   "language": "python",
   "name": "python3"
  },
  "language_info": {
   "codemirror_mode": {
    "name": "ipython",
    "version": 3
   },
   "file_extension": ".py",
   "mimetype": "text/x-python",
   "name": "python",
   "nbconvert_exporter": "python",
   "pygments_lexer": "ipython3",
   "version": "3.8.10"
  }
 },
 "nbformat": 4,
 "nbformat_minor": 5
}
